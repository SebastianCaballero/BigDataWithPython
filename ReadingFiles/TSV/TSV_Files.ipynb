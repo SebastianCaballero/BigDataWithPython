{
 "cells": [
  {
   "cell_type": "markdown",
   "metadata": {},
   "source": [
    "# TSV Format.\n",
    "\n",
    "*Juan Sebastián Caballero Roa*.\n",
    "## TSV Description\n",
    "\n",
    "\n",
    "\n",
    "Tab Separated Values. This format requires that each element of our set is in oneline, and within this line, each element attribute is separateb by a tabs.\n",
    "\n",
    "For example:\n",
    "\n",
    ">\"Name\" \\ \"Physics\" \\ \"Math\" \\ \"Chemistry\"\n",
    ">\n",
    ">\"Ralph\" \\ \"7.5\" \\ \"8.2\" \\ \"9.5\"\n",
    ">\n",
    ">\"Coraline\" \\ \"10\" \\ \"9.8\" \\ \"9\"\n",
    ">\n",
    ">\"Sandra\" \\ \"7\" \\ \"9.4\" \\ \"8.3\"\n",
    "where \\ is a TAB"
   ]
  },
  {
   "cell_type": "markdown",
   "metadata": {},
   "source": [
    "## Creating a TSV file from a CSV file using Python\n",
    "We will keep using the file \"Grants 2014. Associations educational field\" in https://datos.gob.es/es/catalogo/l01280066-subvenciones-2014-asociaciones-ambito-educativo that is part of the Open data initiative of the Government of Spain. This file was used in the CSV section so is recommendable to read it first.\n",
    "\n",
    "Let's create a TSV file from the CSV:"
   ]
  },
  {
   "cell_type": "code",
   "execution_count": 6,
   "metadata": {},
   "outputs": [
    {
     "name": "stdout",
     "output_type": "stream",
     "text": [
      "<_io.TextIOWrapper name='../Data/subvenciones-educacion.tsv' mode='w' encoding='latin1'>\n"
     ]
    }
   ],
   "source": [
    "import csv\n",
    "path1 = '../Data/subvenciones-educacion.csv'\n",
    "path2 = '../Data/subvenciones-educacion.tsv'\n",
    "with open(path1, encoding='latin1') as file_read, open(path2,'w' ,encoding='latin1') as file_write:\n",
    "    dict_reader = csv.DictReader(file_read)\n",
    "    attributes = dict_reader.fieldnames\n",
    "    writer = csv.DictWriter(file_write, delimiter='\\t', fieldnames=attributes)\n",
    "    writer.writeheader()\n",
    "    for line in dict_reader:\n",
    "        writer.writerow(line)\n",
    "    print(file_write)"
   ]
  }
 ],
 "metadata": {
  "kernelspec": {
   "display_name": "Python 3",
   "language": "python",
   "name": "python3"
  },
  "language_info": {
   "codemirror_mode": {
    "name": "ipython",
    "version": 3
   },
   "file_extension": ".py",
   "mimetype": "text/x-python",
   "name": "python",
   "nbconvert_exporter": "python",
   "pygments_lexer": "ipython3",
   "version": "3.8.5"
  }
 },
 "nbformat": 4,
 "nbformat_minor": 4
}
